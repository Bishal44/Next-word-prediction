{
 "cells": [
  {
   "cell_type": "code",
   "execution_count": 10,
   "id": "50eb1355",
   "metadata": {},
   "outputs": [],
   "source": [
    "import os\n",
    "from bs4 import BeautifulSoup\n",
    "import string\n",
    "from nltk.tokenize import RegexpTokenizer\n",
    "from tensorflow.keras.preprocessing.text import Tokenizer\n",
    "from tensorflow.keras.layers import Embedding, LSTM, Dense\n",
    "from tensorflow.keras.models import Sequential, load_model\n",
    "from keras.layers.core import Dense, Activation\n",
    "from tensorflow.keras.utils import to_categorical\n",
    "from tensorflow.keras.optimizers import Adam\n",
    "from keras.utils import to_categorical\n",
    "import pickle\n",
    "from keras.optimizers import RMSprop\n",
    "import numpy as np\n",
    "from numpy import array\n",
    "import heapq"
   ]
  },
  {
   "cell_type": "code",
   "execution_count": 2,
   "id": "b0f4c486",
   "metadata": {},
   "outputs": [],
   "source": [
    "documents = []\n",
    "for file in os.listdir(\"reuters_data/\"):\n",
    "    \n",
    "        filename = os.path.join(\"reuters_data\", file)\n",
    "        f = open(filename, 'r', encoding='utf-8', errors='ignore')\n",
    "        dataFile = f.read()\n",
    "        \n",
    "        soup = BeautifulSoup(dataFile, 'html.parser')\n",
    "        contents = soup.findAll('title')\n",
    "        \n",
    "        for content in contents:\n",
    "            documents.append(content.text)"
   ]
  },
  {
   "cell_type": "code",
   "execution_count": 5,
   "id": "2f9549e3",
   "metadata": {},
   "outputs": [
    {
     "data": {
      "text/plain": [
       "['INCO SEES NO MAJOR IMPACT FROM DOW REMOVAL',\n",
       " 'FORMER EMPIRE OF CAROLINA <EMP> EXEC SENTENCED',\n",
       " 'DOCTORS FIND LINK BETWEEN AIDS, SMALLPOX VIRUS',\n",
       " 'BIRTH CONTROL PILLS HELP PREVENT CANCER - STUDY',\n",
       " 'U.S. ECONOMIC DATA KEY TO DEBT FUTURES OUTLOOK']"
      ]
     },
     "execution_count": 5,
     "metadata": {},
     "output_type": "execute_result"
    }
   ],
   "source": [
    "documents[:5]"
   ]
  },
  {
   "cell_type": "code",
   "execution_count": 6,
   "id": "9e5894ab",
   "metadata": {},
   "outputs": [],
   "source": [
    "data = \"\"\n",
    "for d in documents:\n",
    "    data += d"
   ]
  },
  {
   "cell_type": "code",
   "execution_count": 7,
   "id": "a3a635c4",
   "metadata": {},
   "outputs": [
    {
     "data": {
      "text/plain": [
       "941529"
      ]
     },
     "execution_count": 7,
     "metadata": {},
     "output_type": "execute_result"
    }
   ],
   "source": [
    "len(data)"
   ]
  },
  {
   "cell_type": "code",
   "execution_count": 8,
   "id": "3ffe6795",
   "metadata": {},
   "outputs": [
    {
     "data": {
      "text/plain": [
       "939549"
      ]
     },
     "execution_count": 8,
     "metadata": {},
     "output_type": "execute_result"
    }
   ],
   "source": [
    "data = data.replace('\\n', '').replace('\\r', '').replace('\\ufeff', '')\n",
    "len(data)"
   ]
  },
  {
   "cell_type": "code",
   "execution_count": 47,
   "id": "225b3c6b",
   "metadata": {},
   "outputs": [
    {
     "name": "stdout",
     "output_type": "stream",
     "text": [
      "139107\n"
     ]
    },
    {
     "data": {
      "text/plain": [
       "[3599, 21, 83, 283, 1329]"
      ]
     },
     "execution_count": 47,
     "metadata": {},
     "output_type": "execute_result"
    }
   ],
   "source": [
    "tokenizer = Tokenizer()\n",
    "tokenizer.fit_on_texts([data])\n",
    "encoded_data= tokenizer.texts_to_sequences([data])[0]\n",
    "print(len(encoded_data))\n",
    "encoded_data[:5]"
   ]
  },
  {
   "cell_type": "code",
   "execution_count": 33,
   "id": "cff5b658",
   "metadata": {},
   "outputs": [
    {
     "data": {
      "text/plain": [
       "31095"
      ]
     },
     "execution_count": 33,
     "metadata": {},
     "output_type": "execute_result"
    }
   ],
   "source": [
    "vocab_size = len(tokenizer.word_index) + 1  # 0 is reserved for padding so that's why we added 1\n",
    "vocab_size"
   ]
  },
  {
   "cell_type": "code",
   "execution_count": 48,
   "id": "858f3ef5",
   "metadata": {},
   "outputs": [
    {
     "name": "stdout",
     "output_type": "stream",
     "text": [
      "Total Sequences: 139101\n"
     ]
    }
   ],
   "source": [
    "WORD_LENGTH = 5\n",
    "prev_words = []\n",
    "next_words = []\n",
    "for i in range(1, len(encoded_data) - WORD_LENGTH):\n",
    "    prev_words.append(encoded_data[i:i + WORD_LENGTH])\n",
    "    next_words.append(encoded_data[i + WORD_LENGTH])\n",
    "print('Total Sequences: %d' % len(prev_words))\n",
    "# split into X and y elements"
   ]
  },
  {
   "cell_type": "code",
   "execution_count": 52,
   "id": "f0fb1be0",
   "metadata": {},
   "outputs": [],
   "source": [
    "X = prev_words\n",
    "Y = next_words"
   ]
  },
  {
   "cell_type": "code",
   "execution_count": 54,
   "id": "6f323b68",
   "metadata": {},
   "outputs": [
    {
     "name": "stdout",
     "output_type": "stream",
     "text": [
      "[[21, 83, 283, 1329, 50], [83, 283, 1329, 50, 724], [283, 1329, 50, 724, 7878], [1329, 50, 724, 7878, 7879], [50, 724, 7878, 7879, 7]]\n",
      "[724, 7878, 7879, 7, 1858]\n"
     ]
    }
   ],
   "source": [
    "print(X[:5])\n",
    "print(Y[:5])"
   ]
  },
  {
   "cell_type": "code",
   "execution_count": 55,
   "id": "101d961d",
   "metadata": {},
   "outputs": [
    {
     "data": {
      "text/plain": [
       "array([[0., 0., 0., ..., 0., 0., 0.],\n",
       "       [0., 0., 0., ..., 0., 0., 0.],\n",
       "       [0., 0., 0., ..., 0., 0., 0.],\n",
       "       [0., 0., 0., ..., 0., 0., 0.],\n",
       "       [0., 0., 0., ..., 0., 0., 0.]], dtype=float32)"
      ]
     },
     "execution_count": 55,
     "metadata": {},
     "output_type": "execute_result"
    }
   ],
   "source": [
    "Y = to_categorical(Y, num_classes=vocab_size)\n",
    "Y[:5]"
   ]
  },
  {
   "cell_type": "code",
   "execution_count": 59,
   "id": "b459da0b",
   "metadata": {},
   "outputs": [
    {
     "name": "stdout",
     "output_type": "stream",
     "text": [
      "Model: \"sequential_6\"\n",
      "_________________________________________________________________\n",
      " Layer (type)                Output Shape              Param #   \n",
      "=================================================================\n",
      " embedding_3 (Embedding)     (None, 1, 5)              155475    \n",
      "                                                                 \n",
      " lstm_8 (LSTM)               (None, 50)                11200     \n",
      "                                                                 \n",
      " dense_7 (Dense)             (None, 31095)             1585845   \n",
      "                                                                 \n",
      "=================================================================\n",
      "Total params: 1,752,520\n",
      "Trainable params: 1,752,520\n",
      "Non-trainable params: 0\n",
      "_________________________________________________________________\n",
      "None\n"
     ]
    }
   ],
   "source": [
    "model = Sequential()\n",
    "model.add(Embedding(vocab_size, 5, input_length=1))\n",
    "model.add(LSTM(50))\n",
    "model.add(Dense(vocab_size, activation='softmax'))\n",
    "print(model.summary())"
   ]
  },
  {
   "cell_type": "code",
   "execution_count": null,
   "id": "d0bf5ce1",
   "metadata": {},
   "outputs": [],
   "source": []
  }
 ],
 "metadata": {
  "kernelspec": {
   "display_name": "Python 3 (ipykernel)",
   "language": "python",
   "name": "python3"
  },
  "language_info": {
   "codemirror_mode": {
    "name": "ipython",
    "version": 3
   },
   "file_extension": ".py",
   "mimetype": "text/x-python",
   "name": "python",
   "nbconvert_exporter": "python",
   "pygments_lexer": "ipython3",
   "version": "3.8.5"
  }
 },
 "nbformat": 4,
 "nbformat_minor": 5
}
