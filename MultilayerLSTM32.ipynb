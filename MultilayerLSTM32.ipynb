{
 "cells": [
  {
   "cell_type": "code",
   "execution_count": 5,
   "id": "50eb1355",
   "metadata": {
    "id": "50eb1355"
   },
   "outputs": [],
   "source": [
    "import os\n",
    "from bs4 import BeautifulSoup\n",
    "import string\n",
    "from nltk.tokenize import RegexpTokenizer\n",
    "from tensorflow.keras.preprocessing.text import Tokenizer\n",
    "from tensorflow.keras.layers import Embedding, LSTM, Dense\n",
    "from tensorflow.keras.models import Sequential, load_model\n",
    "from tensorflow.keras.models import load_model\n",
    "from keras.layers.core import Dense, Activation\n",
    "from tensorflow.keras.utils import to_categorical\n",
    "from tensorflow.keras.optimizers import Adam\n",
    "from keras.utils import to_categorical\n",
    "import pickle\n",
    "from keras.optimizers import RMSprop\n",
    "import numpy as np\n",
    "from numpy import array\n",
    "import heapq"
   ]
  },
  {
   "cell_type": "markdown",
   "id": "nXwmMiUHVmN1",
   "metadata": {
    "id": "nXwmMiUHVmN1"
   },
   "source": [
    "**Import data**"
   ]
  },
  {
   "cell_type": "code",
   "execution_count": 6,
   "id": "b0f4c486",
   "metadata": {
    "id": "b0f4c486"
   },
   "outputs": [],
   "source": [
    "name=\"MultilayerLSTM32\"\n",
    "documents = []\n",
    "for file in os.listdir(\"reuters_sample/\"): # original: \"reuters_data/\"\n",
    "    if file.endswith('.sgm'): # it is important for GoogleColab\n",
    "        filename = os.path.join(\"reuters_sample\", file) # original: \"reuters_data\"\n",
    "        f = open(filename, 'r', encoding='utf-8', errors='ignore')\n",
    "        dataFile = f.read().lower()\n",
    "        \n",
    "        soup = BeautifulSoup(dataFile, 'html.parser')\n",
    "\n",
    "        ## get all 'topic'\n",
    "        # topics = {topic.name for topic in soup.find_all()}\n",
    "  \n",
    "        ## iterate all 'topic'\n",
    "        # for topic in topics:\n",
    "          \n",
    "        ## find all element of 'topic'\n",
    "          # for i in soup.find_all('topic'):\n",
    "  \n",
    "        ## if tag has attribute of class\n",
    "            # if i.has_attr('trade'):\n",
    "  \n",
    "# We have selected the following 20 'TOPICS' out of 135:\n",
    "# that we want to use for our prediction exercise: 1.) \"trade\" 2.) \"earn\" 3.) \"grain\" 4.) \"money-fx\" 5.) \n",
    "# \"coffee\" 6.) \"gold\" 7.) \"acq\" 8.) \"wheat\" 9.) \"veg-oil\" 10.) \"nat-gas\" 11.) \"cooper\" 12.) \"ship\" 13.) \n",
    "# \"dlr\" 14.) \"crude\" 15.) \"interest\" 16.) \"meal-feed\" 17.) \"alum\" 18.) \"money-supply\" 19.) \"cocoa\" 20.) \"livestock\"\n",
    "        contents = soup.findAll('title')\n",
    "        \n",
    "        for content in contents:\n",
    "            documents.append(content.text)"
   ]
  },
  {
   "cell_type": "code",
   "execution_count": 7,
   "id": "jwFHnhJ6YrPG",
   "metadata": {
    "colab": {
     "base_uri": "https://localhost:8080/"
    },
    "id": "jwFHnhJ6YrPG",
    "outputId": "d769a4f3-c6cf-427b-a14c-8aff14712298"
   },
   "outputs": [
    {
     "name": "stdout",
     "output_type": "stream",
     "text": [
      "Number of documents: 6966\n"
     ]
    }
   ],
   "source": [
    "print('Number of documents: {}'.format(len(documents)))"
   ]
  },
  {
   "cell_type": "code",
   "execution_count": 8,
   "id": "BwkB00Xzx-vT",
   "metadata": {
    "colab": {
     "base_uri": "https://localhost:8080/"
    },
    "id": "BwkB00Xzx-vT",
    "outputId": "96174c3f-7547-410f-e863-1e685dd209ce"
   },
   "outputs": [
    {
     "name": "stdout",
     "output_type": "stream",
     "text": [
      "Number of documents: 6731\n"
     ]
    }
   ],
   "source": [
    "# Remove duplicated strings from the list of strings\n",
    "documents = [i for n, i in enumerate(documents) if i not in documents[:n]]\n",
    "\n",
    "print('Number of documents: {}'.format(len(documents)))"
   ]
  },
  {
   "cell_type": "code",
   "execution_count": 9,
   "id": "2f9549e3",
   "metadata": {
    "colab": {
     "base_uri": "https://localhost:8080/"
    },
    "id": "2f9549e3",
    "outputId": "34adf071-e76d-4a8a-da33-599a658dc082"
   },
   "outputs": [
    {
     "data": {
      "text/plain": [
       "['bahia cocoa review',\n",
       " 'standard oil <srd> to form financial unit',\n",
       " 'texas commerce bancshares <tcb> files plan',\n",
       " 'talking point/bankamerica <bac> equity offer',\n",
       " 'national average prices for farmer-owned reserve',\n",
       " 'argentine 1986/87 grain/oilseed registrations',\n",
       " 'red lion inns files plans offering',\n",
       " \"usx <x> debt dowgraded by moody's\",\n",
       " 'champion products <ch> approves stock split',\n",
       " 'computer terminal systems <cpml> completes sale']"
      ]
     },
     "execution_count": 9,
     "metadata": {},
     "output_type": "execute_result"
    }
   ],
   "source": [
    "documents[:10]"
   ]
  },
  {
   "cell_type": "markdown",
   "id": "fRsdiodgY4er",
   "metadata": {
    "id": "fRsdiodgY4er"
   },
   "source": [
    "**Join the documents**"
   ]
  },
  {
   "cell_type": "code",
   "execution_count": 10,
   "id": "9e5894ab",
   "metadata": {
    "id": "9e5894ab"
   },
   "outputs": [],
   "source": [
    "data = \"\"\n",
    "for d in documents:\n",
    "    data += d"
   ]
  },
  {
   "cell_type": "code",
   "execution_count": 11,
   "id": "a3a635c4",
   "metadata": {
    "colab": {
     "base_uri": "https://localhost:8080/"
    },
    "id": "a3a635c4",
    "outputId": "2f6d665d-70bb-408a-ead2-2c2cf4bc68ca"
   },
   "outputs": [
    {
     "name": "stdout",
     "output_type": "stream",
     "text": [
      "Number of data: 302870\n"
     ]
    }
   ],
   "source": [
    "print('Number of data: {}'.format(len(data)))"
   ]
  },
  {
   "cell_type": "code",
   "execution_count": 12,
   "id": "3ffe6795",
   "metadata": {
    "colab": {
     "base_uri": "https://localhost:8080/"
    },
    "id": "3ffe6795",
    "outputId": "5cd35f61-cdbd-4e69-9b9c-57b0e2a101e5"
   },
   "outputs": [
    {
     "name": "stdout",
     "output_type": "stream",
     "text": [
      "Number of data: 302335\n",
      "bahia cocoa reviewstandard oil <srd> to form financial unittexas commerce bancshares <tcb> files pla\n"
     ]
    }
   ],
   "source": [
    "# improve punctuation\n",
    "data = data.replace('\\n', '').replace('\\r', '').replace('\\ufeff', '')\n",
    "print('Number of data: {}'.format(len(data)))\n",
    "print(data[:100])"
   ]
  },
  {
   "cell_type": "code",
   "execution_count": 13,
   "id": "CNRiSJsMtwQu",
   "metadata": {
    "colab": {
     "base_uri": "https://localhost:8080/"
    },
    "id": "CNRiSJsMtwQu",
    "outputId": "6041d359-b0ae-4595-b68e-1b311d10f968"
   },
   "outputs": [
    {
     "name": "stdout",
     "output_type": "stream",
     "text": [
      "bahia cocoa reviewstandard oil  srd  to form financial unittexas commerce bancshares  tcb  files pla\n"
     ]
    }
   ],
   "source": [
    "translator = str.maketrans(string.punctuation, ' '*len(string.punctuation)) #map punctuation to space\n",
    "data = data.translate(translator)\n",
    "print(data[:100])"
   ]
  },
  {
   "cell_type": "code",
   "execution_count": 14,
   "id": "225b3c6b",
   "metadata": {
    "colab": {
     "base_uri": "https://localhost:8080/"
    },
    "id": "225b3c6b",
    "outputId": "1a2ff1ab-a9ae-4344-d847-44f658e0b0e1"
   },
   "outputs": [
    {
     "name": "stdout",
     "output_type": "stream",
     "text": [
      "44856\n"
     ]
    },
    {
     "data": {
      "text/plain": [
       "[3302, 513, 3303, 29, 1457]"
      ]
     },
     "execution_count": 14,
     "metadata": {},
     "output_type": "execute_result"
    }
   ],
   "source": [
    "# integer encode text\n",
    "tokenizer = Tokenizer()\n",
    "tokenizer.fit_on_texts([data])\n",
    "encoded_data = tokenizer.texts_to_sequences([data])[0]\n",
    "print(len(encoded_data))\n",
    "encoded_data[:5]"
   ]
  },
  {
   "cell_type": "code",
   "execution_count": 15,
   "id": "cff5b658",
   "metadata": {
    "colab": {
     "base_uri": "https://localhost:8080/"
    },
    "id": "cff5b658",
    "outputId": "c03f23da-60ed-4603-cbea-8aff102dcbe1"
   },
   "outputs": [
    {
     "name": "stdout",
     "output_type": "stream",
     "text": [
      "Vocabulary Size: 13007\n"
     ]
    }
   ],
   "source": [
    "# determine the vocabulary size\n",
    "# unique_words = tokenizer.word_index\n",
    "unique_words = np.unique(encoded_data)\n",
    "vocab_size = len(unique_words) + 1  # 0 is reserved for padding so that's why we added 1\n",
    "unique_word_index = dict((c, i) for i, c in enumerate(unique_words))\n",
    "print('Vocabulary Size: %d' % vocab_size)"
   ]
  },
  {
   "cell_type": "markdown",
   "id": "PYLR_W62b3lm",
   "metadata": {
    "id": "PYLR_W62b3lm"
   },
   "source": [
    "**Next, we need to create sequences of words to fit the model with one word as input and one word as output.**"
   ]
  },
  {
   "cell_type": "code",
   "execution_count": 16,
   "id": "858f3ef5",
   "metadata": {
    "colab": {
     "base_uri": "https://localhost:8080/"
    },
    "id": "858f3ef5",
    "outputId": "081afb86-cef0-4f9a-aeb0-f3009d000afe"
   },
   "outputs": [
    {
     "name": "stdout",
     "output_type": "stream",
     "text": [
      "[513, 3303, 29, 1457, 1]\n",
      "558\n"
     ]
    }
   ],
   "source": [
    "# create word -> word sequences\n",
    "WORD_LENGTH = 5\n",
    "prev_words = []\n",
    "next_words = []\n",
    "for i in range(1, len(encoded_data) - WORD_LENGTH):\n",
    "    prev_words.append(encoded_data[i:i + WORD_LENGTH])\n",
    "    next_words.append(encoded_data[i + WORD_LENGTH])\n",
    "print(prev_words[0])\n",
    "print(next_words[0])"
   ]
  },
  {
   "cell_type": "code",
   "execution_count": 17,
   "id": "uiJwfjRM1WYf",
   "metadata": {
    "colab": {
     "base_uri": "https://localhost:8080/"
    },
    "id": "uiJwfjRM1WYf",
    "outputId": "0f0818de-4d88-46a2-b574-05bd5248a59e"
   },
   "outputs": [
    {
     "name": "stdout",
     "output_type": "stream",
     "text": [
      "Total Sequences: 44850\n"
     ]
    }
   ],
   "source": [
    "print('Total Sequences: %d' % len(prev_words))"
   ]
  },
  {
   "cell_type": "code",
   "execution_count": 18,
   "id": "MNb-LdgdcqSZ",
   "metadata": {
    "id": "MNb-LdgdcqSZ"
   },
   "outputs": [],
   "source": [
    "# list(len(prev_words)[:5]) # [input, output]"
   ]
  },
  {
   "cell_type": "markdown",
   "id": "kMClupvlcdWq",
   "metadata": {
    "id": "kMClupvlcdWq"
   },
   "source": [
    "\n",
    "\n",
    "**We can then split the sequences into input (X) and output elements (y)**\n",
    "\n"
   ]
  },
  {
   "cell_type": "code",
   "execution_count": 19,
   "id": "f0fb1be0",
   "metadata": {
    "id": "f0fb1be0"
   },
   "outputs": [],
   "source": [
    "# split into X and y elements\n",
    "X = prev_words\n",
    "X = np.array(X)\n",
    "Y = next_words\n",
    "Y = np.array(Y)\n",
    "\n",
    "# X = np.zeros((len(prev_words), WORD_LENGTH, vocab_size), dtype=bool)\n",
    "# Y = np.zeros((len(next_words), vocab_size), dtype=bool)"
   ]
  },
  {
   "cell_type": "code",
   "execution_count": 20,
   "id": "6f323b68",
   "metadata": {
    "colab": {
     "base_uri": "https://localhost:8080/"
    },
    "id": "6f323b68",
    "outputId": "73f8a8cd-1298-49d6-810a-6f761e07d1a6"
   },
   "outputs": [
    {
     "name": "stdout",
     "output_type": "stream",
     "text": [
      "[[ 513 3303   29 1457    1]\n",
      " [3303   29 1457    1  558]\n",
      " [  29 1457    1  558   98]\n",
      " [1457    1  558   98 1458]\n",
      " [   1  558   98 1458  559]]\n",
      "[ 558   98 1458  559  822]\n"
     ]
    }
   ],
   "source": [
    "print(X[:5])\n",
    "print(Y[:5])"
   ]
  },
  {
   "cell_type": "code",
   "execution_count": 21,
   "id": "101d961d",
   "metadata": {
    "id": "101d961d"
   },
   "outputs": [
    {
     "data": {
      "text/plain": [
       "array([[0., 0., 0., ..., 0., 0., 0.],\n",
       "       [0., 0., 0., ..., 0., 0., 0.],\n",
       "       [0., 0., 0., ..., 0., 0., 0.],\n",
       "       [0., 0., 0., ..., 0., 0., 0.],\n",
       "       [0., 0., 0., ..., 0., 0., 0.]], dtype=float32)"
      ]
     },
     "execution_count": 21,
     "metadata": {},
     "output_type": "execute_result"
    }
   ],
   "source": [
    "# one hot encode outputs\n",
    "Y = to_categorical(Y, num_classes=vocab_size)\n",
    "# define model\n",
    "Y[:5]"
   ]
  },
  {
   "cell_type": "code",
   "execution_count": 22,
   "id": "ALNxgolmIFBD",
   "metadata": {
    "colab": {
     "base_uri": "https://localhost:8080/"
    },
    "id": "ALNxgolmIFBD",
    "outputId": "2fb2c8a3-ff8d-486e-efdd-6d73ea69d674"
   },
   "outputs": [
    {
     "data": {
      "text/plain": [
       "(44850, 13007)"
      ]
     },
     "execution_count": 22,
     "metadata": {},
     "output_type": "execute_result"
    }
   ],
   "source": [
    "X.shape\n",
    "Y.shape"
   ]
  },
  {
   "cell_type": "markdown",
   "id": "9-SgDZVKd_IL",
   "metadata": {
    "id": "9-SgDZVKd_IL"
   },
   "source": [
    "**Build the model**"
   ]
  },
  {
   "cell_type": "code",
   "execution_count": 23,
   "id": "b459da0b",
   "metadata": {
    "colab": {
     "base_uri": "https://localhost:8080/"
    },
    "id": "b459da0b",
    "outputId": "f688e5bf-e3e2-4e51-dd78-83982df6c178"
   },
   "outputs": [
    {
     "name": "stderr",
     "output_type": "stream",
     "text": [
      "2023-02-25 11:32:44.105177: W tensorflow/compiler/xla/stream_executor/platform/default/dso_loader.cc:64] Could not load dynamic library 'libcuda.so.1'; dlerror: libcuda.so.1: cannot open shared object file: No such file or directory\n",
      "2023-02-25 11:32:44.114558: W tensorflow/compiler/xla/stream_executor/cuda/cuda_driver.cc:265] failed call to cuInit: UNKNOWN ERROR (303)\n",
      "2023-02-25 11:32:44.114614: I tensorflow/compiler/xla/stream_executor/cuda/cuda_diagnostics.cc:156] kernel driver does not appear to be running on this host (bishal-pc): /proc/driver/nvidia/version does not exist\n",
      "2023-02-25 11:32:44.136797: I tensorflow/core/platform/cpu_feature_guard.cc:193] This TensorFlow binary is optimized with oneAPI Deep Neural Network Library (oneDNN) to use the following CPU instructions in performance-critical operations:  AVX2 FMA\n",
      "To enable them in other operations, rebuild TensorFlow with the appropriate compiler flags.\n"
     ]
    },
    {
     "name": "stdout",
     "output_type": "stream",
     "text": [
      "Model: \"sequential\"\n",
      "_________________________________________________________________\n",
      " Layer (type)                Output Shape              Param #   \n",
      "=================================================================\n",
      " embedding (Embedding)       (None, 5, 5)              65035     \n",
      "                                                                 \n",
      " lstm (LSTM)                 (None, 5, 32)             4864      \n",
      "                                                                 \n",
      " lstm_1 (LSTM)               (None, 5, 32)             8320      \n",
      "                                                                 \n",
      " lstm_2 (LSTM)               (None, 32)                8320      \n",
      "                                                                 \n",
      " dense (Dense)               (None, 13007)             429231    \n",
      "                                                                 \n",
      "=================================================================\n",
      "Total params: 515,770\n",
      "Trainable params: 515,770\n",
      "Non-trainable params: 0\n",
      "_________________________________________________________________\n",
      "None\n"
     ]
    }
   ],
   "source": [
    "model = Sequential()\n",
    "model.add(Embedding(vocab_size, 5, input_length=5)) # original: 5\n",
    "model.add(LSTM(32, return_sequences=True, input_shape=(WORD_LENGTH, len(unique_words))))\n",
    "model.add(LSTM(32, return_sequences=True))\n",
    "model.add(LSTM(32))\n",
    "model.add(Dense(vocab_size, activation='softmax'))\n",
    "print(model.summary())"
   ]
  },
  {
   "cell_type": "markdown",
   "id": "F1eNfS9cebdM",
   "metadata": {
    "id": "F1eNfS9cebdM"
   },
   "source": [
    "**Train the model**"
   ]
  },
  {
   "cell_type": "code",
   "execution_count": 24,
   "id": "Pjty_axoePeu",
   "metadata": {
    "colab": {
     "base_uri": "https://localhost:8080/"
    },
    "id": "Pjty_axoePeu",
    "outputId": "6ab68fe8-b418-473e-8863-440f6983ffe2"
   },
   "outputs": [
    {
     "name": "stderr",
     "output_type": "stream",
     "text": [
      "2023-02-25 11:32:46.490041: W tensorflow/tsl/framework/cpu_allocator_impl.cc:82] Allocation of 2216756996 exceeds 10% of free system memory.\n"
     ]
    },
    {
     "name": "stdout",
     "output_type": "stream",
     "text": [
      "Epoch 1/20\n",
      "333/333 [==============================] - 20s 41ms/step - loss: 8.3823 - accuracy: 0.0261 - val_loss: 8.4059 - val_accuracy: 0.0285\n",
      "Epoch 2/20\n",
      "333/333 [==============================] - 13s 38ms/step - loss: 7.8808 - accuracy: 0.0292 - val_loss: 8.6151 - val_accuracy: 0.0285\n",
      "Epoch 3/20\n",
      "333/333 [==============================] - 13s 38ms/step - loss: 7.8052 - accuracy: 0.0292 - val_loss: 8.7667 - val_accuracy: 0.0285\n",
      "Epoch 4/20\n",
      "333/333 [==============================] - 13s 38ms/step - loss: 7.7527 - accuracy: 0.0292 - val_loss: 8.9130 - val_accuracy: 0.0285\n",
      "Epoch 5/20\n",
      "333/333 [==============================] - 13s 38ms/step - loss: 7.7075 - accuracy: 0.0291 - val_loss: 9.0650 - val_accuracy: 0.0281\n",
      "Epoch 6/20\n",
      "333/333 [==============================] - 13s 38ms/step - loss: 7.6558 - accuracy: 0.0339 - val_loss: 9.0911 - val_accuracy: 0.0267\n",
      "Epoch 7/20\n",
      "333/333 [==============================] - 13s 38ms/step - loss: 7.6008 - accuracy: 0.0350 - val_loss: 8.9912 - val_accuracy: 0.0281\n",
      "Epoch 8/20\n",
      "333/333 [==============================] - 12s 37ms/step - loss: 7.5375 - accuracy: 0.0357 - val_loss: 8.8783 - val_accuracy: 0.0276\n",
      "Epoch 9/20\n",
      "333/333 [==============================] - 12s 37ms/step - loss: 7.4685 - accuracy: 0.0364 - val_loss: 8.8582 - val_accuracy: 0.0272\n",
      "Epoch 10/20\n",
      "333/333 [==============================] - 12s 37ms/step - loss: 7.4026 - accuracy: 0.0370 - val_loss: 8.9847 - val_accuracy: 0.0259\n",
      "Epoch 11/20\n",
      "333/333 [==============================] - 12s 37ms/step - loss: 7.3410 - accuracy: 0.0372 - val_loss: 9.0671 - val_accuracy: 0.0254\n",
      "Epoch 12/20\n",
      "333/333 [==============================] - 13s 38ms/step - loss: 7.2837 - accuracy: 0.0382 - val_loss: 9.1179 - val_accuracy: 0.0259\n",
      "Epoch 13/20\n",
      "333/333 [==============================] - 13s 38ms/step - loss: 7.2315 - accuracy: 0.0385 - val_loss: 9.1978 - val_accuracy: 0.0259\n",
      "Epoch 14/20\n",
      "333/333 [==============================] - 13s 39ms/step - loss: 7.1825 - accuracy: 0.0399 - val_loss: 9.3215 - val_accuracy: 0.0254\n",
      "Epoch 15/20\n",
      "333/333 [==============================] - 13s 39ms/step - loss: 7.1397 - accuracy: 0.0414 - val_loss: 9.3780 - val_accuracy: 0.0250\n",
      "Epoch 16/20\n",
      "333/333 [==============================] - 13s 38ms/step - loss: 7.0982 - accuracy: 0.0410 - val_loss: 9.4728 - val_accuracy: 0.0245\n",
      "Epoch 17/20\n",
      "333/333 [==============================] - 13s 38ms/step - loss: 7.0580 - accuracy: 0.0428 - val_loss: 9.5519 - val_accuracy: 0.0250\n",
      "Epoch 18/20\n",
      "333/333 [==============================] - 13s 38ms/step - loss: 7.0198 - accuracy: 0.0428 - val_loss: 9.6174 - val_accuracy: 0.0254\n",
      "Epoch 19/20\n",
      "333/333 [==============================] - 13s 38ms/step - loss: 6.9842 - accuracy: 0.0434 - val_loss: 9.6992 - val_accuracy: 0.0254\n",
      "Epoch 20/20\n",
      "333/333 [==============================] - 13s 38ms/step - loss: 6.9463 - accuracy: 0.0441 - val_loss: 9.7061 - val_accuracy: 0.0250\n"
     ]
    }
   ],
   "source": [
    "# fit network\n",
    "optimizer = RMSprop(learning_rate=0.01)\n",
    "\n",
    "# compile network\n",
    "#### since labels are INTEGERS, we need to changed from loss='categorical_crossentropy'!!!\n",
    "#### If you want to provide labels using one-hot representation, please use CategoricalCrossentropy loss.\n",
    "model.compile(loss='categorical_crossentropy', optimizer='adam', metrics=['accuracy']) # optimizer ='adam'\n",
    "history = model.fit(X, Y, validation_split=0.05, batch_size=128, epochs=20, shuffle=True).history\n"
   ]
  },
  {
   "cell_type": "markdown",
   "id": "QxgsBCrwtECi",
   "metadata": {
    "id": "QxgsBCrwtECi"
   },
   "source": [
    "**Save trained model**"
   ]
  },
  {
   "cell_type": "code",
   "execution_count": 25,
   "id": "A2ioJcaGtEN4",
   "metadata": {
    "id": "A2ioJcaGtEN4"
   },
   "outputs": [],
   "source": [
    "# After successful training, we will save the trained model and just load it back as needed.\n",
    "model.save('keras_next_word_model'+str(name)+'.h5')\n",
    "pickle.dump(history, open('history'+str(name)+'.p', 'wb'))"
   ]
  },
  {
   "cell_type": "markdown",
   "id": "XsrX16ketfZq",
   "metadata": {
    "id": "XsrX16ketfZq"
   },
   "source": [
    "**Prediction**\n",
    "Using saved model:\n",
    "- we input the sample as a feature vector\n",
    "- we convert the input string to a single feature vector"
   ]
  },
  {
   "cell_type": "markdown",
   "id": "H41rOg1XpXUl",
   "metadata": {
    "id": "H41rOg1XpXUl"
   },
   "source": [
    "**Creating a Prediction script**"
   ]
  },
  {
   "cell_type": "code",
   "execution_count": 26,
   "id": "1b7db182",
   "metadata": {},
   "outputs": [],
   "source": [
    "import matplotlib.pyplot as plt\n",
    "import matplotlib\n"
   ]
  },
  {
   "cell_type": "code",
   "execution_count": 28,
   "id": "da6c92f3",
   "metadata": {},
   "outputs": [],
   "source": [
    "#Loading back the saved weights and history\n",
    "\n",
    "model = load_model('keras_next_word_model'+str(name)+'.h5')\n",
    "history = pickle.load(open('history'+str(name)+'.p', 'rb'))"
   ]
  },
  {
   "cell_type": "code",
   "execution_count": 29,
   "id": "d05a37ee",
   "metadata": {},
   "outputs": [
    {
     "data": {
      "image/png": "[encoded data removed]",
      "text/plain": [
       "<Figure size 432x288 with 1 Axes>"
      ]
     },
     "metadata": {
      "needs_background": "light"
     },
     "output_type": "display_data"
    }
   ],
   "source": [
    "#Evaluation\n",
    "plt.plot(history['accuracy'])\n",
    "plt.plot(history['val_accuracy'])\n",
    "plt.title('model accuracy of '+str(name))\n",
    "plt.ylabel('accuracy')\n",
    "plt.xlabel('epoch')\n",
    "plt.legend(['train', 'test'], loc= 'upper left')\n",
    "\n",
    "plt.savefig(\"01.Accuracy\"+str(name)+\".png\")"
   ]
  },
  {
   "cell_type": "code",
   "execution_count": 30,
   "id": "1556af81",
   "metadata": {},
   "outputs": [
    {
     "data": {
      "image/png": "[encoded data removed]",
      "text/plain": [
       "<Figure size 432x288 with 1 Axes>"
      ]
     },
     "metadata": {
      "needs_background": "light"
     },
     "output_type": "display_data"
    }
   ],
   "source": [
    "plt.plot(history['loss'])\n",
    "plt.plot(history['val_loss'])\n",
    "plt.title('model loss of ' +str(name))\n",
    "plt.ylabel('loss')\n",
    "plt.xlabel('epoch')\n",
    "plt.legend(['train', 'test'], loc= 'upper left')\n",
    "\n",
    "plt.savefig(\"02.Loss\"+str(name)+\".png\")"
   ]
  },
  {
   "cell_type": "code",
   "execution_count": 32,
   "id": "afa873e1",
   "metadata": {},
   "outputs": [],
   "source": [
    "from tensorflow.keras.preprocessing.sequence import pad_sequences"
   ]
  },
  {
   "cell_type": "code",
   "execution_count": 35,
   "id": "dac5a6a1",
   "metadata": {},
   "outputs": [
    {
     "name": "stdout",
     "output_type": "stream",
     "text": [
      "1/1 [==============================] - 0s 24ms/step\n",
      "1/1 [==============================] - 0s 23ms/step\n",
      "farmers concerned about british sugar test ohio\n"
     ]
    }
   ],
   "source": [
    "max_sequence_len=6\n",
    "seed_text = \"farmers concerned about british sugar\"\n",
    "next_words = 2\n",
    "  \n",
    "for _ in range(next_words):\n",
    "    token_list = tokenizer.texts_to_sequences([seed_text])[0]\n",
    "    token_list = pad_sequences([token_list], maxlen=max_sequence_len-1, padding='pre')\n",
    "    #predicted = model.predict_classes(token_list, verbose=0)\n",
    "    predict_x=model.predict(token_list) \n",
    "    predicted=np.argmax(predict_x,axis=1)\n",
    "    output_word = \"\"\n",
    "    for word, index in tokenizer.word_index.items():\n",
    "        if index == predicted:\n",
    "            output_word = word\n",
    "            break\n",
    "    seed_text += \" \" + output_word\n",
    "print(seed_text)"
   ]
  },
  {
   "cell_type": "code",
   "execution_count": null,
   "id": "e8b30645",
   "metadata": {},
   "outputs": [],
   "source": []
  }
 ],
 "metadata": {
  "accelerator": "GPU",
  "colab": {
   "provenance": []
  },
  "gpuClass": "standard",
  "kernelspec": {
   "display_name": "Python 3 (ipykernel)",
   "language": "python",
   "name": "python3"
  },
  "language_info": {
   "codemirror_mode": {
    "name": "ipython",
    "version": 3
   },
   "file_extension": ".py",
   "mimetype": "text/x-python",
   "name": "python",
   "nbconvert_exporter": "python",
   "pygments_lexer": "ipython3",
   "version": "3.9.7"
  }
 },
 "nbformat": 4,
 "nbformat_minor": 5
}
