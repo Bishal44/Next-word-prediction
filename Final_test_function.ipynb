{
 "cells": [
  {
   "cell_type": "code",
   "execution_count": 31,
   "id": "fcef0f98",
   "metadata": {},
   "outputs": [],
   "source": [
    "#Prediction Script\n",
    "# Importing the Libraries\n",
    "\n",
    "from tensorflow.keras.models import load_model\n",
    "import numpy as np\n",
    "import pickle\n",
    "import os\n",
    "import os\n",
    "from bs4 import BeautifulSoup\n",
    "import string\n",
    "# Load the model and tokenizer\n",
    "model = load_model('../Model/keras_next_word_model_lstm32.h5')\n",
    "tokenizer = pickle.load(open('tokenizer.pkl', 'rb'))"
   ]
  },
  {
   "cell_type": "code",
   "execution_count": 32,
   "id": "aae00ef4",
   "metadata": {},
   "outputs": [],
   "source": [
    "def Predict_Next_Words(model, tokenizer, text):\n",
    "    for i in range(len(text)):\n",
    "        sequence = tokenizer.texts_to_sequences([text])[0]\n",
    "        sequence = np.array(sequence)\n",
    "        \n",
    "        preds = model.predict_classes(sequence)\n",
    "        predicted_word = \"\"\n",
    "        print(preds)\n",
    "        for key, value in tokenizer.word_index.items():\n",
    "            if value == preds:\n",
    "                predicted_word = key\n",
    "                break\n",
    "        return predicted_word"
   ]
  },
  {
   "cell_type": "code",
   "execution_count": 33,
   "id": "01c58a72",
   "metadata": {},
   "outputs": [],
   "source": [
    "from tensorflow.keras.preprocessing.sequence import pad_sequences"
   ]
  },
  {
   "cell_type": "code",
   "execution_count": 34,
   "id": "d3693e55",
   "metadata": {},
   "outputs": [],
   "source": [
    "#to find seed text\n",
    "documents = []\n",
    "for file in os.listdir(\"reuters_sample/\"):\n",
    "    \n",
    "        filename = os.path.join(\"reuters_sample\", file)\n",
    "        f = open(filename, 'r', encoding='utf-8', errors='ignore')\n",
    "        dataFile = f.read()\n",
    "        \n",
    "        soup = BeautifulSoup(dataFile, 'html.parser')\n",
    "        contents = soup.findAll('body')\n",
    "        \n",
    "        for content in contents:\n",
    "            documents.append(content.text)"
   ]
  },
  {
   "cell_type": "code",
   "execution_count": 35,
   "id": "9c094047",
   "metadata": {},
   "outputs": [
    {
     "name": "stdout",
     "output_type": "stream",
     "text": [
      "Showers continued throughout the week in\n",
      "the Bahia cocoa zone, alleviating the drought since early\n",
      "January and improving prospects for the coming temporao,\n",
      "although normal humidity levels have not been restored,\n",
      "Comissaria Smith said in its weekly review.\n",
      "    The dry period means the temporao will be late this year.\n",
      "    Arrivals for the week ended February 22 were 155,221 bags\n",
      "of 60 kilos making a cumulative total for the season of 5.93\n",
      "mln against 5.81 at the same stage last year. Again it seems\n",
      "that cocoa delivered earlier on consignment was included in the\n",
      "arrivals figures.\n",
      "    Comissaria Smith said there is still some doubt as to how\n",
      "much old crop cocoa is still available as harvesting has\n",
      "practically come to an end. With total Bahia crop estimates\n",
      "around 6.4 mln bags and sales standing at almost 6.2 mln there\n",
      "are a few hundred thousand bags still in the hands of farmers,\n",
      "middlemen, exporters and processors.\n",
      "    There are doubts as to how much of this cocoa would be fit\n",
      "for export as shippers are now experiencing dificulties in\n",
      "obtaining +Bahia superior+ certificates.\n",
      "    In view of the lower quality over recent weeks farmers have\n",
      "sold a good part of their cocoa held on consignment.\n",
      "    Comissaria Smith said spot bean prices rose to 340 to 350\n",
      "cruzados per arroba of 15 kilos.\n",
      "    Bean shippers were reluctant to offer nearby shipment and\n",
      "only limited sales were booked for March shipment at 1,750 to\n",
      "1,780 dlrs per tonne to ports to be named.\n",
      "    New crop sales were also light and all to open ports with\n",
      "June/July going at 1,850 and 1,880 dlrs and at 35 and 45 dlrs\n",
      "under New York july, Aug/Sept at 1,870, 1,875 and 1,880 dlrs\n",
      "per tonne FOB.\n",
      "    Routine sales of butter were made. March/April sold at\n",
      "4,340, 4,345 and 4,350 dlrs.\n",
      "    April/May butter went at 2.27 times New York May, June/July\n",
      "at 4,400 and 4,415 dlrs, Aug/Sept at 4,351 to 4,450 dlrs and at\n",
      "2.27 and 2.28 times New York Sept and Oct/Dec at 4,480 dlrs and\n",
      "2.27 times New York Dec, Comissaria Smith said.\n",
      "    Destinations were the U.S., Covertible currency areas,\n",
      "Uruguay and open ports.\n",
      "    Cake sales were registered at 785 to 995 dlrs for\n",
      "March/April, 785 dlrs for May, 753 dlrs for Aug and 0.39 times\n",
      "New York Dec for Oct/Dec.\n",
      "    Buyers were the U.S., Argentina, Uruguay and convertible\n",
      "currency areas.\n",
      "    Liquor sales were limited with March/April selling at 2,325\n",
      "and 2,380 dlrs, June/July at 2,375 dlrs and at 1.25 times New\n",
      "York July, Aug/Sept at 2,400 dlrs and at 1.25 times New York\n",
      "Sept and Oct/Dec at 1.25 times New York Dec, Comissaria Smith\n",
      "said.\n",
      "    Total Bahia sales are currently estimated at 6.13 mln bags\n",
      "against the 1986/87 crop and 1.06 mln bags against the 1987/88\n",
      "crop.\n",
      "    Final figures for the period to February 28 are expected to\n",
      "be published by the Brazilian Cocoa Trade Commission after\n",
      "carnival which ends midday on February 27.\n",
      " Reuter\n",
      "\u0003\n"
     ]
    }
   ],
   "source": [
    "print(documents[0])"
   ]
  },
  {
   "cell_type": "code",
   "execution_count": 36,
   "id": "a1cac8ab",
   "metadata": {},
   "outputs": [
    {
     "name": "stdout",
     "output_type": "stream",
     "text": [
      "WARNING:tensorflow:Model was constructed with shape (None, 1) for input KerasTensor(type_spec=TensorSpec(shape=(None, 1), dtype=tf.float32, name='embedding_input'), name='embedding_input', description=\"created by layer 'embedding_input'\"), but it was called on an input with incompatible shape (None, 5).\n",
      "1/1 [==============================] - 0s 410ms/step\n",
      "1/1 [==============================] - 0s 24ms/step\n",
      "Final figures for the period to century usdasugar\n"
     ]
    }
   ],
   "source": [
    "max_sequence_len=6\n",
    "seed_text = \"Final figures for the period to\"\n",
    "next_words = 2\n",
    "  \n",
    "for _ in range(next_words):\n",
    "    token_list = tokenizer.texts_to_sequences([seed_text])[0]\n",
    "    token_list = pad_sequences([token_list], maxlen=max_sequence_len-1, padding='pre')\n",
    "    #predicted = model.predict_classes(token_list, verbose=0)\n",
    "    predict_x=model.predict(token_list) \n",
    "    predicted=np.argmax(predict_x,axis=1)\n",
    "    output_word = \"\"\n",
    "    for word, index in tokenizer.word_index.items():\n",
    "        if index == predicted:\n",
    "            output_word = word\n",
    "            break\n",
    "    seed_text += \" \" + output_word\n",
    "print(seed_text)"
   ]
  },
  {
   "cell_type": "code",
   "execution_count": null,
   "id": "d6f79e70",
   "metadata": {},
   "outputs": [],
   "source": []
  }
 ],
 "metadata": {
  "kernelspec": {
   "display_name": "Python 3 (ipykernel)",
   "language": "python",
   "name": "python3"
  },
  "language_info": {
   "codemirror_mode": {
    "name": "ipython",
    "version": 3
   },
   "file_extension": ".py",
   "mimetype": "text/x-python",
   "name": "python",
   "nbconvert_exporter": "python",
   "pygments_lexer": "ipython3",
   "version": "3.9.7"
  }
 },
 "nbformat": 4,
 "nbformat_minor": 5
}
