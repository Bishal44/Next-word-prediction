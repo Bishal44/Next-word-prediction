{
  "cells": [
    {
      "cell_type": "markdown",
      "source": [
        "# **Machine Learning - Exercise 3 (WS 2022)**\n",
        "**Group (31):** Petkova Violeta (01636660), Upadhyaya Bishal (12119246), Gabor Toaso (12127079)\n",
        "\n",
        "**Model name:** Single-layer using LSTM32 and 20 epochs"
      ],
      "metadata": {
        "id": "Q3s2vodGPwGZ"
      },
      "id": "Q3s2vodGPwGZ"
    },
    {
      "cell_type": "code",
      "execution_count": 147,
      "id": "50eb1355",
      "metadata": {
        "id": "50eb1355"
      },
      "outputs": [],
      "source": [
        "import os\n",
        "from bs4 import BeautifulSoup\n",
        "import string\n",
        "from nltk.tokenize import RegexpTokenizer\n",
        "from tensorflow.keras.preprocessing.text import Tokenizer\n",
        "from tensorflow.keras.layers import Embedding, LSTM, Dense\n",
        "from tensorflow.keras.models import Sequential, load_model\n",
        "from tensorflow.keras.models import load_model\n",
        "from tensorflow.keras.preprocessing.sequence import pad_sequences\n",
        "from keras.layers.core import Dense, Activation\n",
        "from tensorflow.keras.utils import to_categorical\n",
        "from tensorflow.keras.optimizers import Adam\n",
        "from keras.utils import to_categorical\n",
        "import pickle\n",
        "from keras.optimizers import RMSprop\n",
        "import numpy as np\n",
        "from numpy import array\n",
        "import heapq\n",
        "import matplotlib.pyplot as plt\n",
        "import matplotlib"
      ]
    },
    {
      "cell_type": "markdown",
      "id": "nXwmMiUHVmN1",
      "metadata": {
        "id": "nXwmMiUHVmN1"
      },
      "source": [
        "**Import \"title\" data from files 000-007**"
      ]
    },
    {
      "cell_type": "code",
      "execution_count": 148,
      "id": "b0f4c486",
      "metadata": {
        "id": "b0f4c486"
      },
      "outputs": [],
      "source": [
        "# By defining the nam of the model, this is inherited to other deliverables\n",
        "name=\"Single_layer_LSTM32_20epochs\"\n",
        "\n",
        "# Importing \"title\"s from documents (00-07)\n",
        "documents = []\n",
        "for file in os.listdir(\"reuters_sample/\"): # original: \"reuters_data/\"\n",
        "    if file.endswith('.sgm'): # it is important for GoogleColab\n",
        "        filename = os.path.join(\"reuters_sample\", file) # original: \"reuters_data\"\n",
        "        f = open(filename, 'r', encoding='utf-8', errors='ignore')\n",
        "        dataFile = f.read().lower()\n",
        "        \n",
        "        soup = BeautifulSoup(dataFile, 'html.parser')\n",
        "        contents = soup.findAll('title')\n",
        "        \n",
        "        for content in contents:\n",
        "            documents.append(content.text)"
      ]
    },
    {
      "cell_type": "code",
      "execution_count": 149,
      "id": "jwFHnhJ6YrPG",
      "metadata": {
        "colab": {
          "base_uri": "https://localhost:8080/"
        },
        "id": "jwFHnhJ6YrPG",
        "outputId": "e653cd8d-24bf-4a6c-8499-8f4736e82eb6"
      },
      "outputs": [
        {
          "output_type": "stream",
          "name": "stdout",
          "text": [
            "Number of documents: 7958\n"
          ]
        }
      ],
      "source": [
        "# Print the number of documents\n",
        "print('Number of documents: {}'.format(len(documents)))"
      ]
    },
    {
      "cell_type": "code",
      "execution_count": 150,
      "id": "BwkB00Xzx-vT",
      "metadata": {
        "colab": {
          "base_uri": "https://localhost:8080/"
        },
        "id": "BwkB00Xzx-vT",
        "outputId": "0c6964c4-0a00-48cb-ce4c-29e7f9b0761a"
      },
      "outputs": [
        {
          "output_type": "stream",
          "name": "stdout",
          "text": [
            "Number of documents: 7693\n"
          ]
        }
      ],
      "source": [
        "# Remove duplicated strings from the list of strings\n",
        "documents = [i for n, i in enumerate(documents) if i not in documents[:n]]\n",
        "print('Number of documents: {}'.format(len(documents)))"
      ]
    },
    {
      "cell_type": "code",
      "execution_count": 151,
      "id": "2f9549e3",
      "metadata": {
        "colab": {
          "base_uri": "https://localhost:8080/"
        },
        "id": "2f9549e3",
        "outputId": "b96da195-feae-45b1-848d-a3e497b8eca3"
      },
      "outputs": [
        {
          "output_type": "execute_result",
          "data": {
            "text/plain": [
              "['fairfax says higher tax hits first half earnings',\n",
              " 'bank of france sells 1.6 billion francs crh tap',\n",
              " 'britoil plc <btol.l> 1986 yr',\n",
              " 'uk unit wage/labour costs rose 3.3 pct in three months ending jan - official\\n',\n",
              " 'uk average earnings rose 7.6 pct in january, underlying rise 7.5 pct - official\\n',\n",
              " 'u.k. february adjusted sterling m3 rises 2-1/4 pct, m0 down 3/4 to one pct - official\\n',\n",
              " 'legal and general group plc year 1986',\n",
              " 'feb sterling bank lending up 2.9 billion stg after 1.75 rise in jan - official\\n',\n",
              " 'uk feb adjusted unemployment fell 44,100 total 3.07 mln or 11.1 pct - official\\n',\n",
              " 'japan to ask chip makers to slash output further']"
            ]
          },
          "metadata": {},
          "execution_count": 151
        }
      ],
      "source": [
        "# Print the first 10 candidates from document\n",
        "documents[:10]"
      ]
    },
    {
      "cell_type": "markdown",
      "id": "fRsdiodgY4er",
      "metadata": {
        "id": "fRsdiodgY4er"
      },
      "source": [
        "**Join the documents**"
      ]
    },
    {
      "cell_type": "code",
      "execution_count": 152,
      "id": "9e5894ab",
      "metadata": {
        "id": "9e5894ab"
      },
      "outputs": [],
      "source": [
        "# Join imported documents (00-07)\n",
        "data = \"\"\n",
        "for d in documents:\n",
        "    data += d"
      ]
    },
    {
      "cell_type": "code",
      "execution_count": 153,
      "id": "a3a635c4",
      "metadata": {
        "colab": {
          "base_uri": "https://localhost:8080/"
        },
        "id": "a3a635c4",
        "outputId": "c2414492-32bf-4427-8693-543066ed3bcd"
      },
      "outputs": [
        {
          "output_type": "stream",
          "name": "stdout",
          "text": [
            "Number of data: 347403\n"
          ]
        }
      ],
      "source": [
        "# Print the number of data\n",
        "print('Number of data: {}'.format(len(data)))"
      ]
    },
    {
      "cell_type": "code",
      "execution_count": 154,
      "id": "3ffe6795",
      "metadata": {
        "colab": {
          "base_uri": "https://localhost:8080/"
        },
        "id": "3ffe6795",
        "outputId": "e6d123d7-dfb1-4c03-ccb3-e42f5c55216e"
      },
      "outputs": [
        {
          "output_type": "stream",
          "name": "stdout",
          "text": [
            "Number of data: 346768\n",
            "fairfax says higher tax hits first half earningsbank of france sells 1.6 billion francs crh tapbrito\n"
          ]
        }
      ],
      "source": [
        "# improve punctuation\n",
        "data = data.replace('\\n', '').replace('\\r', '').replace('\\ufeff', '')\n",
        "print('Number of data: {}'.format(len(data)))\n",
        "print(data[:100])"
      ]
    },
    {
      "cell_type": "code",
      "execution_count": 155,
      "id": "CNRiSJsMtwQu",
      "metadata": {
        "colab": {
          "base_uri": "https://localhost:8080/"
        },
        "id": "CNRiSJsMtwQu",
        "outputId": "0b30d3b9-9e98-4661-adb7-b8286d05c6de"
      },
      "outputs": [
        {
          "output_type": "stream",
          "name": "stdout",
          "text": [
            "fairfax says higher tax hits first half earningsbank of france sells 1 6 billion francs crh tapbrito\n"
          ]
        }
      ],
      "source": [
        "# map punctuation to space\n",
        "translator = str.maketrans(string.punctuation, ' '*len(string.punctuation))\n",
        "data = data.translate(translator)\n",
        "print(data[:100])"
      ]
    },
    {
      "cell_type": "code",
      "execution_count": 156,
      "id": "225b3c6b",
      "metadata": {
        "colab": {
          "base_uri": "https://localhost:8080/"
        },
        "id": "225b3c6b",
        "outputId": "2b3ab8c4-4dd2-4270-eebb-1a584c39a89f"
      },
      "outputs": [
        {
          "output_type": "stream",
          "name": "stdout",
          "text": [
            "51500\n"
          ]
        },
        {
          "output_type": "execute_result",
          "data": {
            "text/plain": [
              "[2236, 12, 113, 64, 934]"
            ]
          },
          "metadata": {},
          "execution_count": 156
        }
      ],
      "source": [
        "# integer encode text\n",
        "tokenizer = Tokenizer()\n",
        "tokenizer.fit_on_texts([data])\n",
        "encoded_data = tokenizer.texts_to_sequences([data])[0]\n",
        "print(len(encoded_data))\n",
        "encoded_data[:5]"
      ]
    },
    {
      "cell_type": "code",
      "execution_count": 157,
      "id": "cff5b658",
      "metadata": {
        "colab": {
          "base_uri": "https://localhost:8080/"
        },
        "id": "cff5b658",
        "outputId": "d1417507-5010-48cf-ff1c-e7bfbd886952"
      },
      "outputs": [
        {
          "output_type": "stream",
          "name": "stdout",
          "text": [
            "Vocabulary Size: 14409\n"
          ]
        }
      ],
      "source": [
        "# determine the vocabulary size\n",
        "# unique_words = tokenizer.word_index\n",
        "unique_words = np.unique(encoded_data)\n",
        "vocab_size = len(unique_words) + 1  # 0 is reserved for padding so that's why we added 1\n",
        "unique_word_index = dict((c, i) for i, c in enumerate(unique_words))\n",
        "print('Vocabulary Size: %d' % vocab_size)"
      ]
    },
    {
      "cell_type": "markdown",
      "id": "PYLR_W62b3lm",
      "metadata": {
        "id": "PYLR_W62b3lm"
      },
      "source": [
        "**We need to create sequences of words to fit the model.**"
      ]
    },
    {
      "cell_type": "code",
      "execution_count": 158,
      "id": "858f3ef5",
      "metadata": {
        "colab": {
          "base_uri": "https://localhost:8080/"
        },
        "id": "858f3ef5",
        "outputId": "a8ee5142-416d-46df-ebc9-6ab3c9b7c870"
      },
      "outputs": [
        {
          "output_type": "stream",
          "name": "stdout",
          "text": [
            "[12, 113, 64, 934, 134]\n",
            "470\n"
          ]
        }
      ],
      "source": [
        "# create word -> word sequences\n",
        "WORD_LENGTH = 5\n",
        "prev_words = []\n",
        "next_words = []\n",
        "for i in range(1, len(encoded_data) - WORD_LENGTH):\n",
        "    prev_words.append(encoded_data[i:i + WORD_LENGTH])\n",
        "    next_words.append(encoded_data[i + WORD_LENGTH])\n",
        "print(prev_words[0])\n",
        "print(next_words[0])"
      ]
    },
    {
      "cell_type": "code",
      "execution_count": 159,
      "id": "uiJwfjRM1WYf",
      "metadata": {
        "colab": {
          "base_uri": "https://localhost:8080/"
        },
        "id": "uiJwfjRM1WYf",
        "outputId": "9dd7fd06-94a0-43c8-a237-857759aee1b7"
      },
      "outputs": [
        {
          "output_type": "stream",
          "name": "stdout",
          "text": [
            "Total Sequences: 51494\n"
          ]
        }
      ],
      "source": [
        "# Print the size of the sequence\n",
        "print('Total Sequences: %d' % len(prev_words))"
      ]
    },
    {
      "cell_type": "code",
      "execution_count": 160,
      "id": "MNb-LdgdcqSZ",
      "metadata": {
        "id": "MNb-LdgdcqSZ"
      },
      "outputs": [],
      "source": [
        "# list(len(prev_words)[:5]) # [input, output]"
      ]
    },
    {
      "cell_type": "markdown",
      "id": "kMClupvlcdWq",
      "metadata": {
        "id": "kMClupvlcdWq"
      },
      "source": [
        "\n",
        "\n",
        "**We can then split the sequences into input (X) and output elements (y)**\n",
        "\n"
      ]
    },
    {
      "cell_type": "code",
      "execution_count": 161,
      "id": "f0fb1be0",
      "metadata": {
        "id": "f0fb1be0"
      },
      "outputs": [],
      "source": [
        "# split into X and y elements\n",
        "X = prev_words\n",
        "X = np.array(X)\n",
        "Y = next_words\n",
        "Y = np.array(Y)\n",
        "\n",
        "# X = np.zeros((len(prev_words), WORD_LENGTH, vocab_size), dtype=bool)\n",
        "# Y = np.zeros((len(next_words), vocab_size), dtype=bool)"
      ]
    },
    {
      "cell_type": "code",
      "execution_count": 162,
      "id": "6f323b68",
      "metadata": {
        "colab": {
          "base_uri": "https://localhost:8080/"
        },
        "id": "6f323b68",
        "outputId": "e1618a32-1c31-4aa1-a03e-2d4381f53273"
      },
      "outputs": [
        {
          "output_type": "stream",
          "name": "stdout",
          "text": [
            "[[  12  113   64  934  134]\n",
            " [ 113   64  934  134  470]\n",
            " [  64  934  134  470 3708]\n",
            " [ 934  134  470 3708    8]\n",
            " [ 134  470 3708    8  387]]\n",
            "[ 470 3708    8  387   35]\n"
          ]
        }
      ],
      "source": [
        "print(X[:5])\n",
        "print(Y[:5])"
      ]
    },
    {
      "cell_type": "code",
      "execution_count": 163,
      "id": "101d961d",
      "metadata": {
        "id": "101d961d",
        "colab": {
          "base_uri": "https://localhost:8080/"
        },
        "outputId": "db890e94-67ec-4a20-86a1-a0ee0c7b6212"
      },
      "outputs": [
        {
          "output_type": "execute_result",
          "data": {
            "text/plain": [
              "array([[0., 0., 0., ..., 0., 0., 0.],\n",
              "       [0., 0., 0., ..., 0., 0., 0.],\n",
              "       [0., 0., 0., ..., 0., 0., 0.],\n",
              "       [0., 0., 0., ..., 0., 0., 0.],\n",
              "       [0., 0., 0., ..., 0., 0., 0.]], dtype=float32)"
            ]
          },
          "metadata": {},
          "execution_count": 163
        }
      ],
      "source": [
        "# one hot encode outputs\n",
        "Y = to_categorical(Y, num_classes=vocab_size)\n",
        "# define model\n",
        "Y[:5]"
      ]
    },
    {
      "cell_type": "code",
      "execution_count": 164,
      "id": "ALNxgolmIFBD",
      "metadata": {
        "colab": {
          "base_uri": "https://localhost:8080/"
        },
        "id": "ALNxgolmIFBD",
        "outputId": "e8bd5cae-1619-4a4e-c15c-99f7937ffb8c"
      },
      "outputs": [
        {
          "output_type": "execute_result",
          "data": {
            "text/plain": [
              "(51494, 14409)"
            ]
          },
          "metadata": {},
          "execution_count": 164
        }
      ],
      "source": [
        "X.shape\n",
        "Y.shape"
      ]
    },
    {
      "cell_type": "markdown",
      "id": "9-SgDZVKd_IL",
      "metadata": {
        "id": "9-SgDZVKd_IL"
      },
      "source": [
        "**Build the model**"
      ]
    },
    {
      "cell_type": "code",
      "execution_count": 165,
      "id": "b459da0b",
      "metadata": {
        "colab": {
          "base_uri": "https://localhost:8080/"
        },
        "id": "b459da0b",
        "outputId": "2d02c2ed-f129-4f0a-e6e4-ee8e073833c1"
      },
      "outputs": [
        {
          "output_type": "stream",
          "name": "stdout",
          "text": [
            "Model: \"sequential_5\"\n",
            "_________________________________________________________________\n",
            " Layer (type)                Output Shape              Param #   \n",
            "=================================================================\n",
            " embedding_5 (Embedding)     (None, 5, 5)              72045     \n",
            "                                                                 \n",
            " lstm_7 (LSTM)               (None, 32)                4864      \n",
            "                                                                 \n",
            " dense_5 (Dense)             (None, 14409)             475497    \n",
            "                                                                 \n",
            "=================================================================\n",
            "Total params: 552,406\n",
            "Trainable params: 552,406\n",
            "Non-trainable params: 0\n",
            "_________________________________________________________________\n",
            "None\n"
          ]
        }
      ],
      "source": [
        "model = Sequential()\n",
        "model.add(Embedding(vocab_size, 5, input_length=5)) # original: 5\n",
        "model.add(LSTM(32))\n",
        "model.add(Dense(vocab_size, activation='softmax'))\n",
        "print(model.summary())"
      ]
    },
    {
      "cell_type": "markdown",
      "id": "F1eNfS9cebdM",
      "metadata": {
        "id": "F1eNfS9cebdM"
      },
      "source": [
        "**Train the model**"
      ]
    },
    {
      "cell_type": "code",
      "execution_count": 166,
      "id": "Pjty_axoePeu",
      "metadata": {
        "colab": {
          "base_uri": "https://localhost:8080/"
        },
        "id": "Pjty_axoePeu",
        "outputId": "13161b81-4952-4b3f-f641-369ec914df7b"
      },
      "outputs": [
        {
          "output_type": "stream",
          "name": "stdout",
          "text": [
            "Epoch 1/20\n",
            "383/383 [==============================] - 17s 38ms/step - loss: 8.4590 - accuracy: 0.0288 - val_loss: 8.3618 - val_accuracy: 0.0276\n",
            "Epoch 2/20\n",
            "383/383 [==============================] - 14s 37ms/step - loss: 7.9142 - accuracy: 0.0291 - val_loss: 8.5663 - val_accuracy: 0.0276\n",
            "Epoch 3/20\n",
            "383/383 [==============================] - 14s 36ms/step - loss: 7.8222 - accuracy: 0.0291 - val_loss: 8.6773 - val_accuracy: 0.0276\n",
            "Epoch 4/20\n",
            "383/383 [==============================] - 14s 36ms/step - loss: 7.7288 - accuracy: 0.0291 - val_loss: 8.7642 - val_accuracy: 0.0276\n",
            "Epoch 5/20\n",
            "383/383 [==============================] - 14s 36ms/step - loss: 7.6522 - accuracy: 0.0303 - val_loss: 8.8374 - val_accuracy: 0.0268\n",
            "Epoch 6/20\n",
            "383/383 [==============================] - 14s 36ms/step - loss: 7.5855 - accuracy: 0.0352 - val_loss: 8.8065 - val_accuracy: 0.0400\n",
            "Epoch 7/20\n",
            "383/383 [==============================] - 15s 38ms/step - loss: 7.5174 - accuracy: 0.0430 - val_loss: 8.8017 - val_accuracy: 0.0408\n",
            "Epoch 8/20\n",
            "383/383 [==============================] - 14s 36ms/step - loss: 7.4475 - accuracy: 0.0442 - val_loss: 8.7449 - val_accuracy: 0.0419\n",
            "Epoch 9/20\n",
            "383/383 [==============================] - 15s 38ms/step - loss: 7.3791 - accuracy: 0.0443 - val_loss: 8.7556 - val_accuracy: 0.0450\n",
            "Epoch 10/20\n",
            "383/383 [==============================] - 14s 36ms/step - loss: 7.3130 - accuracy: 0.0445 - val_loss: 8.8713 - val_accuracy: 0.0447\n",
            "Epoch 11/20\n",
            "383/383 [==============================] - 14s 36ms/step - loss: 7.2435 - accuracy: 0.0462 - val_loss: 8.9789 - val_accuracy: 0.0416\n",
            "Epoch 12/20\n",
            "383/383 [==============================] - 14s 35ms/step - loss: 7.1756 - accuracy: 0.0466 - val_loss: 9.0761 - val_accuracy: 0.0381\n",
            "Epoch 13/20\n",
            "383/383 [==============================] - 14s 38ms/step - loss: 7.1056 - accuracy: 0.0501 - val_loss: 9.1709 - val_accuracy: 0.0384\n",
            "Epoch 14/20\n",
            "383/383 [==============================] - 14s 36ms/step - loss: 7.0364 - accuracy: 0.0545 - val_loss: 9.2132 - val_accuracy: 0.0384\n",
            "Epoch 15/20\n",
            "383/383 [==============================] - 14s 36ms/step - loss: 6.9678 - accuracy: 0.0587 - val_loss: 9.2586 - val_accuracy: 0.0388\n",
            "Epoch 16/20\n",
            "383/383 [==============================] - 14s 37ms/step - loss: 6.8989 - accuracy: 0.0621 - val_loss: 9.2825 - val_accuracy: 0.0419\n",
            "Epoch 17/20\n",
            "383/383 [==============================] - 14s 36ms/step - loss: 6.8348 - accuracy: 0.0654 - val_loss: 9.3768 - val_accuracy: 0.0388\n",
            "Epoch 18/20\n",
            "383/383 [==============================] - 14s 36ms/step - loss: 6.7716 - accuracy: 0.0674 - val_loss: 9.4369 - val_accuracy: 0.0419\n",
            "Epoch 19/20\n",
            "383/383 [==============================] - 15s 38ms/step - loss: 6.7117 - accuracy: 0.0703 - val_loss: 9.4585 - val_accuracy: 0.0404\n",
            "Epoch 20/20\n",
            "383/383 [==============================] - 14s 36ms/step - loss: 6.6509 - accuracy: 0.0727 - val_loss: 9.5280 - val_accuracy: 0.0439\n"
          ]
        }
      ],
      "source": [
        "# fit network\n",
        "# optimizer = RMSprop(learning_rate=0.01) # deactivated optimizer\n",
        "\n",
        "# compile network\n",
        "model.compile(loss='categorical_crossentropy', optimizer='adam', metrics=['accuracy'])\n",
        "history = model.fit(X, Y, validation_split=0.05, batch_size=128, epochs=20, shuffle=True).history"
      ]
    },
    {
      "cell_type": "code",
      "execution_count": 167,
      "id": "a54d5fe2",
      "metadata": {
        "id": "a54d5fe2"
      },
      "outputs": [],
      "source": [
        "# After successful training, we will save the trained model and just load it back as needed.\n",
        "model.save('keras_next_word_model'+str(name)+'.h5')\n",
        "pickle.dump(history, open('history'+str(name)+'.p', 'wb'))"
      ]
    },
    {
      "cell_type": "code",
      "execution_count": 168,
      "id": "41742bd6",
      "metadata": {
        "id": "41742bd6"
      },
      "outputs": [],
      "source": [
        "# Loading back the saved weights and history\n",
        "model = load_model('keras_next_word_model'+str(name)+'.h5')\n",
        "history = pickle.load(open('history'+str(name)+'.p', 'rb'))"
      ]
    },
    {
      "cell_type": "code",
      "execution_count": 169,
      "id": "743c22c6",
      "metadata": {
        "colab": {
          "base_uri": "https://localhost:8080/",
          "height": 295
        },
        "id": "743c22c6",
        "outputId": "5d3d0e86-254d-46dc-8c8a-935c89edecb1"
      },
      "outputs": [
        {
          "output_type": "display_data",
          "data": {
            "text/plain": [
              "<Figure size 432x288 with 1 Axes>"
            ],
            "image/png": "[encoded data removed]"
          },
          "metadata": {
            "needs_background": "light"
          }
        }
      ],
      "source": [
        "# Evaluation (accuracy)\n",
        "plt.plot(history['accuracy'])\n",
        "plt.plot(history['val_accuracy'])\n",
        "plt.title('model accuracy of '+str(name))\n",
        "plt.ylabel('accuracy')\n",
        "plt.xlabel('epoch')\n",
        "plt.legend(['train', 'test'], loc= 'upper left')\n",
        "\n",
        "plt.savefig(\"01.Accuracy\"+str(name)+\".png\")"
      ]
    },
    {
      "cell_type": "code",
      "execution_count": 170,
      "id": "545e54d5",
      "metadata": {
        "colab": {
          "base_uri": "https://localhost:8080/",
          "height": 295
        },
        "id": "545e54d5",
        "outputId": "94c4510c-c61a-4877-9bc6-5f94f72135d8"
      },
      "outputs": [
        {
          "output_type": "display_data",
          "data": {
            "text/plain": [
              "<Figure size 432x288 with 1 Axes>"
            ],
            "image/png": "[encoded data removed]"
          },
          "metadata": {
            "needs_background": "light"
          }
        }
      ],
      "source": [
        "# Evaluation (loss)\n",
        "plt.plot(history['loss'])\n",
        "plt.plot(history['val_loss'])\n",
        "plt.title('model loss of ' +str(name))\n",
        "plt.ylabel('loss')\n",
        "plt.xlabel('epoch')\n",
        "plt.legend(['train', 'test'], loc= 'upper left')\n",
        "\n",
        "plt.savefig(\"02.Loss\"+str(name)+\".png\")"
      ]
    },
    {
      "cell_type": "code",
      "execution_count": 146,
      "id": "6c86be3e",
      "metadata": {
        "colab": {
          "base_uri": "https://localhost:8080/"
        },
        "id": "6c86be3e",
        "outputId": "7ffa8978-8713-4a2d-a113-0e786ee0ad02"
      },
      "outputs": [
        {
          "output_type": "stream",
          "name": "stdout",
          "text": [
            "1/1 [==============================] - 0s 21ms/step\n",
            "1/1 [==============================] - 0s 32ms/step\n",
            "farmers concerned about british offering and\n"
          ]
        }
      ],
      "source": [
        "## 10 TITLE EXAMPLES FOR EVALUATION:\n",
        "\"\"\"\n",
        "'farmers concerned about british sugar ownership'\n",
        "'satellite auction unit march, april bookings up'\n",
        "'winland electronics inc 4th qtr loss'\n",
        "'sapporo breweries issues five year sfr notes'\n",
        "'report due on oil imports and national security'\n",
        "'continental air february load factor falls'\n",
        "'great american issues 15 billion yen eurobond'\n",
        "'paribas shares to be quoted on main paris market'\n",
        "'salomon sells 200 mln stg mortgages-backed notes'\n",
        "'opec says february output under ceiling'\n",
        "\"\"\"\n",
        "\n",
        "max_sequence_len=6\n",
        "seed_text = \"farmers concerned about british\"\n",
        "next_words = 2\n",
        "  \n",
        "for _ in range(next_words):\n",
        "    token_list = tokenizer.texts_to_sequences([seed_text])[0]\n",
        "    token_list = pad_sequences([token_list], maxlen=max_sequence_len-1, padding='pre')\n",
        "    #predicted = model.predict_classes(token_list, verbose=0)\n",
        "    predict_x=model.predict(token_list) \n",
        "    predicted=np.argmax(predict_x,axis=1)\n",
        "    output_word = \"\"\n",
        "    for word, index in tokenizer.word_index.items():\n",
        "        if index == predicted:\n",
        "            output_word = word\n",
        "            break\n",
        "    seed_text += \" \" + output_word\n",
        "print(seed_text)"
      ]
    }
  ],
  "metadata": {
    "accelerator": "GPU",
    "colab": {
      "provenance": []
    },
    "gpuClass": "standard",
    "kernelspec": {
      "display_name": "Python 3 (ipykernel)",
      "language": "python",
      "name": "python3"
    },
    "language_info": {
      "codemirror_mode": {
        "name": "ipython",
        "version": 3
      },
      "file_extension": ".py",
      "mimetype": "text/x-python",
      "name": "python",
      "nbconvert_exporter": "python",
      "pygments_lexer": "ipython3",
      "version": "3.9.7"
    }
  },
  "nbformat": 4,
  "nbformat_minor": 5
}